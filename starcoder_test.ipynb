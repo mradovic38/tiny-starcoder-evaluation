{
 "cells": [
  {
   "cell_type": "code",
   "execution_count": 1,
   "metadata": {},
   "outputs": [
    {
     "name": "stderr",
     "output_type": "stream",
     "text": [
      "c:\\Users\\mihai\\OneDrive\\Desktop\\AI Code Completion\\.venv\\Lib\\site-packages\\tqdm\\auto.py:21: TqdmWarning: IProgress not found. Please update jupyter and ipywidgets. See https://ipywidgets.readthedocs.io/en/stable/user_install.html\n",
      "  from .autonotebook import tqdm as notebook_tqdm\n"
     ]
    }
   ],
   "source": [
    "from data_fetcher import clone_repo, collect_python_files\n",
    "from split_generator import SplitGenerator\n",
    "\n",
    "import pandas as pd\n",
    "import torch\n",
    "from transformers import AutoTokenizer, AutoModelForCausalLM\n"
   ]
  },
  {
   "cell_type": "markdown",
   "metadata": {},
   "source": [
    "# 1. Fetching Data"
   ]
  },
  {
   "cell_type": "code",
   "execution_count": 5,
   "metadata": {},
   "outputs": [
    {
     "name": "stdout",
     "output_type": "stream",
     "text": [
      "Cloning repository from https://github.com/mradovic38/football_analysis into repo...\n",
      "Repository cloned successfully.\n",
      "Collecting Python files from repo into code_examples...\n",
      "Copied: repo\\main.py -> code_examples\\main.py\n",
      "Copied: repo\\yolo_inf.py -> code_examples\\yolo_inf.py\n",
      "Copied: repo\\annotation\\abstract_annotator.py -> code_examples\\abstract_annotator.py\n",
      "Copied: repo\\annotation\\abstract_video_processor.py -> code_examples\\abstract_video_processor.py\n",
      "Copied: repo\\annotation\\football_video_processor.py -> code_examples\\football_video_processor.py\n",
      "Copied: repo\\annotation\\frame_number_annotator.py -> code_examples\\frame_number_annotator.py\n",
      "Copied: repo\\annotation\\keypoints_annotator.py -> code_examples\\keypoints_annotator.py\n",
      "Copied: repo\\annotation\\object_annotator.py -> code_examples\\object_annotator.py\n",
      "Copied: repo\\annotation\\projection_annotator.py -> code_examples\\projection_annotator.py\n",
      "Copied: repo\\ball_to_player_assignment\\ball_to_player_assigner.py -> code_examples\\ball_to_player_assigner.py\n",
      "Copied: repo\\ball_to_player_assignment\\possession_tracking\\possession_tracker.py -> code_examples\\possession_tracker.py\n",
      "Copied: repo\\club_assignment\\club.py -> code_examples\\club.py\n",
      "Copied: repo\\club_assignment\\club_assigner.py -> code_examples\\club_assigner.py\n",
      "Copied: repo\\file_writing\\abstract_writer.py -> code_examples\\abstract_writer.py\n",
      "Copied: repo\\file_writing\\tracks_json_writer.py -> code_examples\\tracks_json_writer.py\n",
      "Copied: repo\\position_mappers\\abstract_mapper.py -> code_examples\\abstract_mapper.py\n",
      "Copied: repo\\position_mappers\\homography.py -> code_examples\\homography.py\n",
      "Copied: repo\\position_mappers\\object_position_mapper.py -> code_examples\\object_position_mapper.py\n",
      "Copied: repo\\speed_estimation\\speed_estimator.py -> code_examples\\speed_estimator.py\n",
      "Copied: repo\\tracking\\abstract_tracker.py -> code_examples\\abstract_tracker.py\n",
      "Copied: repo\\tracking\\keypoints_tracker.py -> code_examples\\keypoints_tracker.py\n",
      "Copied: repo\\tracking\\object_tracker.py -> code_examples\\object_tracker.py\n",
      "Copied: repo\\utils\\bbox_utils.py -> code_examples\\bbox_utils.py\n",
      "Copied: repo\\utils\\color_utils.py -> code_examples\\color_utils.py\n",
      "Copied: repo\\utils\\video_utils.py -> code_examples\\video_utils.py\n",
      "Python file collection complete. Files are saved in code_examples.\n"
     ]
    }
   ],
   "source": [
    "REPO_URL = \"https://github.com/mradovic38/football_analysis\"\n",
    "\n",
    "# Clone the repository\n",
    "clone_repo(REPO_URL, clone_dir=\"repo\")\n",
    "\n",
    "# Collect all Python files from the cloned repository\n",
    "collect_python_files(\"repo\", target_dir=\"code_examples\")"
   ]
  },
  {
   "cell_type": "markdown",
   "metadata": {},
   "source": [
    "# 2. Loading the Model"
   ]
  },
  {
   "cell_type": "code",
   "execution_count": 2,
   "metadata": {},
   "outputs": [],
   "source": [
    "# Load the Tiny Starcoder model and tokenizer\n",
    "model_name = \"bigcode/tiny_starcoder_py\"\n",
    "tokenizer = AutoTokenizer.from_pretrained(model_name)\n",
    "model = AutoModelForCausalLM.from_pretrained(model_name)"
   ]
  },
  {
   "cell_type": "markdown",
   "metadata": {},
   "source": [
    "# 3. Creating Data Examples"
   ]
  },
  {
   "cell_type": "code",
   "execution_count": 3,
   "metadata": {},
   "outputs": [],
   "source": [
    "PREFIX_LENGTH = 50\n",
    "MIDDLE_LEGTH = 30\n",
    "SUFFIX_LENGTH = 50"
   ]
  },
  {
   "cell_type": "code",
   "execution_count": 4,
   "metadata": {},
   "outputs": [
    {
     "name": "stdout",
     "output_type": "stream",
     "text": [
      "Generated 2 examples for file: code_examples\\abstract_tracker.py\n",
      "Generated 1 examples for file: code_examples\\abstract_writer.py\n",
      "Generated 18 examples for file: code_examples\\ball_to_player_assigner.py\n",
      "Generated 5 examples for file: code_examples\\bbox_utils.py\n",
      "Generated 1 examples for file: code_examples\\club.py\n",
      "Generated 19 examples for file: code_examples\\club_assigner.py\n",
      "Generated 2 examples for file: code_examples\\color_utils.py\n",
      "Generated 31 examples for file: code_examples\\football_video_processor.py\n",
      "Generated 1 examples for file: code_examples\\frame_number_annotator.py\n",
      "Generated 6 examples for file: code_examples\\homography.py\n",
      "Generated 2 examples for file: code_examples\\keypoints_annotator.py\n",
      "Generated 8 examples for file: code_examples\\keypoints_tracker.py\n",
      "Generated 10 examples for file: code_examples\\main.py\n",
      "Generated 17 examples for file: code_examples\\object_annotator.py\n",
      "Generated 4 examples for file: code_examples\\object_position_mapper.py\n",
      "Generated 9 examples for file: code_examples\\object_tracker.py\n",
      "Generated 2 examples for file: code_examples\\possession_tracker.py\n",
      "Generated 16 examples for file: code_examples\\projection_annotator.py\n",
      "Generated 9 examples for file: code_examples\\speed_estimator.py\n",
      "Generated 8 examples for file: code_examples\\tracks_json_writer.py\n",
      "Generated 14 examples for file: code_examples\\video_utils.py\n",
      "Generated 1 examples for file: code_examples\\yolo_inf.py\n"
     ]
    }
   ],
   "source": [
    "sg = SplitGenerator(tokenizer=tokenizer, directory='code_examples', \n",
    "                    middle_length=MIDDLE_LEGTH, prefix_length=PREFIX_LENGTH, suffix_length=SUFFIX_LENGTH)\n",
    "\n",
    "sg.generate('dataset/data.csv')"
   ]
  },
  {
   "cell_type": "markdown",
   "metadata": {},
   "source": [
    "# 3. Loading Data"
   ]
  },
  {
   "cell_type": "code",
   "execution_count": 6,
   "metadata": {},
   "outputs": [
    {
     "data": {
      "text/html": [
       "<div>\n",
       "<style scoped>\n",
       "    .dataframe tbody tr th:only-of-type {\n",
       "        vertical-align: middle;\n",
       "    }\n",
       "\n",
       "    .dataframe tbody tr th {\n",
       "        vertical-align: top;\n",
       "    }\n",
       "\n",
       "    .dataframe thead th {\n",
       "        text-align: right;\n",
       "    }\n",
       "</style>\n",
       "<table border=\"1\" class=\"dataframe\">\n",
       "  <thead>\n",
       "    <tr style=\"text-align: right;\">\n",
       "      <th></th>\n",
       "      <th>fname</th>\n",
       "      <th>prefix</th>\n",
       "      <th>middle</th>\n",
       "      <th>suffix</th>\n",
       "    </tr>\n",
       "  </thead>\n",
       "  <tbody>\n",
       "    <tr>\n",
       "      <th>0</th>\n",
       "      <td>code_examples\\possession_tracker.py</td>\n",
       "      <td>from club_assignment import Club\\n\\nfrom typin...</td>\n",
       "      <td>None:\\n        \"\"\"\\n        Initializes the P...</td>\n",
       "      <td>object\\n            club2 (Club): The second ...</td>\n",
       "    </tr>\n",
       "    <tr>\n",
       "      <th>1</th>\n",
       "      <td>code_examples\\object_annotator.py</td>\n",
       "      <td>e_annotation_color\\n        super().__init__()...</td>\n",
       "      <td>ball.\\n        \\n        Args:\\n            f...</td>\n",
       "      <td>, categorized by object types.\\n\\n        Retu...</td>\n",
       "    </tr>\n",
       "    <tr>\n",
       "      <th>2</th>\n",
       "      <td>code_examples\\football_video_processor.py</td>\n",
       "      <td>proj)\\n        projection_resized = cv2.resize...</td>\n",
       "      <td>frame = np.zeros((canvas_height, canvas_width,...</td>\n",
       "      <td>onto the canvas (top-left corner)\\n        co...</td>\n",
       "    </tr>\n",
       "    <tr>\n",
       "      <th>3</th>\n",
       "      <td>code_examples\\football_video_processor.py</td>\n",
       "      <td>Width of club 2's possession bar.\\n          ...</td>\n",
       "      <td>of the progress bar.\\n            possession_...</td>\n",
       "      <td>club2_text (str): Text for club 2's possession...</td>\n",
       "    </tr>\n",
       "    <tr>\n",
       "      <th>4</th>\n",
       "      <td>code_examples\\football_video_processor.py</td>\n",
       "      <td># keypoint for player 2\\n            )\\n\\n   ...</td>\n",
       "      <td>self.cur_fps\\n            )\\n            \\n  ...</td>\n",
       "      <td>_tracks(all_tracks)\\n\\n            self.frame_...</td>\n",
       "    </tr>\n",
       "  </tbody>\n",
       "</table>\n",
       "</div>"
      ],
      "text/plain": [
       "                                       fname  \\\n",
       "0        code_examples\\possession_tracker.py   \n",
       "1          code_examples\\object_annotator.py   \n",
       "2  code_examples\\football_video_processor.py   \n",
       "3  code_examples\\football_video_processor.py   \n",
       "4  code_examples\\football_video_processor.py   \n",
       "\n",
       "                                              prefix  \\\n",
       "0  from club_assignment import Club\\n\\nfrom typin...   \n",
       "1  e_annotation_color\\n        super().__init__()...   \n",
       "2  proj)\\n        projection_resized = cv2.resize...   \n",
       "3   Width of club 2's possession bar.\\n          ...   \n",
       "4   # keypoint for player 2\\n            )\\n\\n   ...   \n",
       "\n",
       "                                              middle  \\\n",
       "0   None:\\n        \"\"\"\\n        Initializes the P...   \n",
       "1   ball.\\n        \\n        Args:\\n            f...   \n",
       "2  frame = np.zeros((canvas_height, canvas_width,...   \n",
       "3   of the progress bar.\\n            possession_...   \n",
       "4   self.cur_fps\\n            )\\n            \\n  ...   \n",
       "\n",
       "                                              suffix  \n",
       "0   object\\n            club2 (Club): The second ...  \n",
       "1  , categorized by object types.\\n\\n        Retu...  \n",
       "2   onto the canvas (top-left corner)\\n        co...  \n",
       "3  club2_text (str): Text for club 2's possession...  \n",
       "4  _tracks(all_tracks)\\n\\n            self.frame_...  "
      ]
     },
     "execution_count": 6,
     "metadata": {},
     "output_type": "execute_result"
    }
   ],
   "source": [
    "df = pd.read_csv('dataset/data.csv', delimiter='|').fillna('')\n",
    "\n",
    "df.head()"
   ]
  },
  {
   "cell_type": "code",
   "execution_count": 7,
   "metadata": {},
   "outputs": [
    {
     "name": "stderr",
     "output_type": "stream",
     "text": [
      "The attention mask is not set and cannot be inferred from input because pad token is same as eos token. As a consequence, you may observe unexpected behavior. Please pass your input's `attention_mask` to obtain reliable results.\n"
     ]
    }
   ],
   "source": [
    "# Ensure pad_token_id is set to a valid token (e.g., eos_token_id)\n",
    "if tokenizer.pad_token_id is None:\n",
    "    tokenizer.pad_token_id = tokenizer.eos_token_id\n",
    "\n",
    "# Set the model to evaluation mode\n",
    "model.eval()\n",
    "\n",
    "# Move model to device (CPU or GPU)\n",
    "device = torch.device(\"cuda\" if torch.cuda.is_available() else \"cpu\")\n",
    "model.to(device)\n",
    "\n",
    "# Function to generate predictions for the middle part\n",
    "def get_completion(prefix: str, suffix: str) -> str:\n",
    "    # Prepare the input text\n",
    "    input_text = f\"<fim_prefix>{prefix}<fim_suffix>{suffix}<fim_middle>\"\n",
    "    \n",
    "    # Tokenize the input, ensuring it returns tensors\n",
    "    inputs = tokenizer(input_text, return_tensors=\"pt\", padding=True).to(device)\n",
    "    \n",
    "    # Generate the completion\n",
    "    with torch.no_grad():\n",
    "        outputs = model.generate(\n",
    "            inputs[\"input_ids\"],  # Use the correct tensor from tokenizer output\n",
    "            max_length=PREFIX_LENGTH + MIDDLE_LEGTH + SUFFIX_LENGTH, \n",
    "            pad_token_id=tokenizer.pad_token_id  # Ensure pad_token_id is passed\n",
    "        )\n",
    "    \n",
    "    # Decode the output and extract the generated text\n",
    "    generated_text = tokenizer.decode(outputs[0], skip_special_tokens=False)\n",
    "    \n",
    "    # Extract the completion (text between prefix and suffix)\n",
    "    middle_start = generated_text.find(\"<fim_middle>\") + len(\"<fim_middle>\")\n",
    "    middle_end = generated_text.find(suffix, middle_start)\n",
    "    completion = generated_text[middle_start:middle_end].replace('<|endoftext|>', '')\n",
    "    \n",
    "    return completion\n",
    "\n",
    "# Generate predictions for each row in the DataFrame\n",
    "preds = df.apply(lambda row: get_completion(row['prefix'], row['suffix']), axis=1)\n"
   ]
  },
  {
   "cell_type": "code",
   "execution_count": 8,
   "metadata": {},
   "outputs": [
    {
     "name": "stdout",
     "output_type": "stream",
     "text": [
      "PREFIX:\n",
      "'from club_assignment import Club\\n\\nfrom typing import Dict, List\\n\\nclass PossessionTracker:\\n    \"\"\"Tracking the ball possession of each club\"\"\"\\n\\n    def __init__(self, club1: Club, club2: Club) ->'\n",
      "**************************************************\n",
      "MIDDLE PREDICTION:\n",
      "' None:\\n        \"\"\"Initialize the tracker\\n\\n        Args:\\n            club1 (Club): The first club object\\n            club2 (Club): Th'\n",
      "**************************************************\n",
      "MIDDLE TRUE:\n",
      "' None:\\n        \"\"\"\\n        Initializes the PossessionTracker with club names and possession statistics.\\n\\n        Args:\\n            club1 (Club): The first club'\n",
      "**************************************************\n",
      "SUFFIX:\n",
      "' object\\n            club2 (Club): The second club object\\n        \"\"\"\\n        self.possession_dict: Dict[str, int] = {-1: 0, club1.name: 0, club2.name: 0}'\n",
      "____________________________________________________________________________________________________\n",
      "PREFIX:\n",
      "'e_annotation_color\\n        super().__init__()\\n        \\n    \\n    def annotate(self, frame: np.ndarray, tracks: Dict) -> np.ndarray:\\n        \"\"\"\\n        Annotates the frame with objects like players, referees, and the'\n",
      "**************************************************\n",
      "MIDDLE PREDICTION:\n",
      "' the\\n        corresponding categories.\\n\\n        Args:\\n            frame: The frame to annotate.\\n            tracks: The tracked objects.\\n\\n        Returns:\\n          '\n",
      "**************************************************\n",
      "MIDDLE TRUE:\n",
      "' ball.\\n        \\n        Args:\\n            frame (np.ndarray): The current frame to be annotated.\\n            tracks (Dict): A dictionary containing object tracking data'\n",
      "**************************************************\n",
      "SUFFIX:\n",
      "', categorized by object types.\\n\\n        Returns:\\n            np.ndarray: The annotated frame.\\n        \"\"\"\\n\\n        frame = frame.copy()\\n\\n        # Iterate over the tracked objects\\n        for track in tracks:\\n            for track_id, item in tracks'\n",
      "____________________________________________________________________________________________________\n",
      "PREFIX:\n",
      "'proj)\\n        projection_resized = cv2.resize(projection_frame, (new_w_proj, new_h_proj))\\n\\n        # Create a blank canvas of 1920x1080\\n        combined_'\n",
      "**************************************************\n",
      "MIDDLE PREDICTION:\n",
      "'canvas = np.zeros((1920, 1080, 3), np.uint8)\\n\\n        '\n",
      "**************************************************\n",
      "MIDDLE TRUE:\n",
      "'frame = np.zeros((canvas_height, canvas_width, 3), dtype=np.uint8)\\n\\n        # Copy the main frame'\n",
      "**************************************************\n",
      "SUFFIX:\n",
      "' onto the canvas (top-left corner)\\n        combined_frame[:h_frame, :w_frame] = frame\\n\\n        # Set the position for the projection frame at the bottom-middle\\n        x_offset = (canvas_width - new'\n",
      "____________________________________________________________________________________________________\n",
      "PREFIX:\n",
      "\" Width of club 2's possession bar.\\n            neutral_width (int): Width of the neutral possession area.\\n            bar_x (int): X-coordinate of the progress bar.\\n            bar_y (int): Y-coordinate\"\n",
      "**************************************************\n",
      "MIDDLE PREDICTION:\n",
      "' of the progress bar.\\n            neutral_color (tuple): BGR color of neutral possession area.\\n            neutral_width (in'\n",
      "**************************************************\n",
      "MIDDLE TRUE:\n",
      "\" of the progress bar.\\n            possession_club1_text (str): Text for club 1's possession percentage.\\n            possession_\"\n",
      "**************************************************\n",
      "SUFFIX:\n",
      "\"club2_text (str): Text for club 2's possession percentage.\\n            club1_color (tuple): BGR color of club 1.\\n            club2_color (tuple): BGR color of club 2.\\n       \"\n",
      "____________________________________________________________________________________________________\n",
      "PREFIX:\n",
      "\" # keypoint for player 2\\n            )\\n\\n            # Estimate the speed of the tracked objects\\n            all_tracks['object'] = self.speed_estimator.calculate_speed(\\n                all_tracks['object'], self.frame_num,\"\n",
      "**************************************************\n",
      "MIDDLE PREDICTION:\n",
      "' self.frame_num\\n            )\\n\\n            # Annotate the current frame with the tracked information\\n            annotated_frame = self.annotate'\n",
      "**************************************************\n",
      "MIDDLE TRUE:\n",
      "' self.cur_fps\\n            )\\n            \\n            # Save tracking information if saving is enabled\\n            if self.save_tracks_dir:\\n                self._save'\n",
      "**************************************************\n",
      "SUFFIX:\n",
      "'_tracks(all_tracks)\\n\\n            self.frame_num += 1\\n\\n            # Annotate the current frame with the tracking information\\n            annotated_frame = self.annotate(frame, all_tracks)\\n\\n            # Append the annotated frame to the'\n",
      "____________________________________________________________________________________________________\n"
     ]
    }
   ],
   "source": [
    "for i in range(5):\n",
    "    print('PREFIX:')\n",
    "    print(repr(df['prefix'][i]))\n",
    "    print('*'*50)\n",
    "    print('MIDDLE PREDICTION:')\n",
    "    print(repr(preds[i]))\n",
    "    print('*'*50)\n",
    "    print('MIDDLE TRUE:')\n",
    "    print(repr(df['middle'][i]))\n",
    "    print('*'*50)\n",
    "    print('SUFFIX:')\n",
    "    print(repr(df['suffix'][i]))\n",
    "    print('_'*100)"
   ]
  },
  {
   "cell_type": "code",
   "execution_count": 9,
   "metadata": {},
   "outputs": [
    {
     "data": {
      "text/plain": [
       "{'exact_match': np.float64(0.0),\n",
       " 'chrf': np.float64(25.006394855254662),\n",
       " 'bleu': np.float64(0.10691569632997344),\n",
       " 'rouge1': np.float64(0.381948994244104),\n",
       " 'rouge2': np.float64(0.2235445600157206),\n",
       " 'rougeL': np.float64(0.3583228301470816)}"
      ]
     },
     "execution_count": 9,
     "metadata": {},
     "output_type": "execute_result"
    }
   ],
   "source": [
    "from sklearn.metrics import accuracy_score\n",
    "from sacrebleu import corpus_bleu\n",
    "from nltk.translate.bleu_score import sentence_bleu, SmoothingFunction\n",
    "from rouge_score import rouge_scorer\n",
    "import numpy as np\n",
    "\n",
    "res = df.drop(columns=['fname']).copy()\n",
    "res['mid_pred'] = preds\n",
    "\n",
    "# Preprocess function for cleaning the text\n",
    "def preprocess(text):\n",
    "    return text.rstrip().lower()\n",
    "\n",
    "res['middle'] = res['middle'].apply(preprocess)\n",
    "res['mid_pred'] = res['mid_pred'].apply(preprocess)\n",
    "\n",
    "\n",
    "res['mid_pred'] = res['mid_pred'].fillna('')\n",
    "\n",
    "# Calculate Exact Match\n",
    "def exact_match(row):\n",
    "    return row['middle'] == row['mid_pred']\n",
    "\n",
    "def calculate_bleu(reference, hypothesis):\n",
    "    # Apply smoothing to avoid 0 BLEU score\n",
    "    smoothing_function = SmoothingFunction().method1\n",
    "\n",
    "    # Calculate BLEU score with smoothing\n",
    "    bleu_score = sentence_bleu(reference, hypothesis, smoothing_function=smoothing_function)\n",
    "\n",
    "    return bleu_score\n",
    "\n",
    "res['exact_match'] = res.apply(exact_match, axis=1)\n",
    "\n",
    "# Calculate chrF score\n",
    "res['chrf'] = res.apply(lambda row: corpus_bleu([row['mid_pred']], [[row['middle']]]).score, axis=1)\n",
    "\n",
    "# Calculate BLEU score\n",
    "res['bleu'] = res.apply(lambda row: calculate_bleu([row['middle'].split()], row['mid_pred'].split()), axis=1)\n",
    "\n",
    "# Calculate ROUGE score\n",
    "def calculate_rouge(row):\n",
    "    scorer = rouge_scorer.RougeScorer(['rouge1', 'rouge2', 'rougeL'], use_stemmer=True)\n",
    "    scores = scorer.score(row['middle'], row['mid_pred'])\n",
    "    return scores\n",
    "\n",
    "res['rouge'] = res.apply(calculate_rouge, axis=1)\n",
    "\n",
    "# Combine results\n",
    "results = {\n",
    "    'exact_match': np.mean(res['exact_match']),\n",
    "    'chrf': np.mean(res['chrf']),\n",
    "    'bleu': np.mean(res['bleu']),\n",
    "    'rouge1': res['rouge'].apply(lambda x: x['rouge1'].fmeasure).mean(),\n",
    "    'rouge2': res['rouge'].apply(lambda x: x['rouge2'].fmeasure).mean(),\n",
    "    'rougeL': res['rouge'].apply(lambda x: x['rougeL'].fmeasure).mean()\n",
    "}\n",
    "\n",
    "results"
   ]
  }
 ],
 "metadata": {
  "kernelspec": {
   "display_name": ".venv",
   "language": "python",
   "name": "python3"
  },
  "language_info": {
   "codemirror_mode": {
    "name": "ipython",
    "version": 3
   },
   "file_extension": ".py",
   "mimetype": "text/x-python",
   "name": "python",
   "nbconvert_exporter": "python",
   "pygments_lexer": "ipython3",
   "version": "3.11.5"
  }
 },
 "nbformat": 4,
 "nbformat_minor": 2
}
